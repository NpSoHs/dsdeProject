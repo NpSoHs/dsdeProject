{
 "cells": [
  {
   "cell_type": "code",
   "execution_count": 2,
   "metadata": {},
   "outputs": [],
   "source": [
    "import pandas as pd\n",
    "import os\n"
   ]
  },
  {
   "cell_type": "code",
   "execution_count": 3,
   "metadata": {},
   "outputs": [],
   "source": [
    "# ฟังก์ชันประมวลผลไฟล์ CSV เดี่ยว\n",
    "def process_csv(file_path):\n",
    "    \"\"\"\n",
    "    ประมวลผลไฟล์ CSV เดี่ยว:\n",
    "    - เติมค่า city และ country จาก longitude และ latitude หากมี null\n",
    "    - ลบแถวที่ยังมี null หลังจากพยายามเติมข้อมูลแล้ว\n",
    "    \"\"\"\n",
    "    df = pd.read_csv(file_path)\n",
    "    initial_null_count = df[['city', 'country']].isnull().sum().sum()\n",
    "    fixes_count = 0\n",
    "\n",
    "    for idx, row in df.iterrows():\n",
    "        if pd.isnull(row['city']) or pd.isnull(row['country']):\n",
    "            matched_row = df[(df['longitude'] == row['longitude']) &\n",
    "                             (df['latitude'] == row['latitude']) &\n",
    "                             df['city'].notnull() &\n",
    "                             df['country'].notnull()]\n",
    "            if not matched_row.empty:\n",
    "                df.loc[idx, 'city'] = matched_row.iloc[0]['city']\n",
    "                df.loc[idx, 'country'] = matched_row.iloc[0]['country']\n",
    "                fixes_count += 1\n",
    "\n",
    "    df = df.dropna()\n",
    "    remaining_null_count = df[['city', 'country']].isnull().sum().sum()\n",
    "    print(f\"{file_path}: แก้ไขได้ {fixes_count} แถว, เหลือ null {remaining_null_count} แถว\")\n",
    "    return df\n",
    "\n",
    "# ฟังก์ชันประมวลผลไฟล์ CSV ทั้งหมดในโฟลเดอร์\n",
    "def process_all_csv_in_folder(folder_path):\n",
    "    \"\"\"\n",
    "    ประมวลผลไฟล์ CSV ทุกไฟล์ในโฟลเดอร์:\n",
    "    - เรียก process_csv() สำหรับแต่ละไฟล์\n",
    "    - รวมข้อมูลทั้งหมดเป็น DataFrame เดียว\n",
    "    \"\"\"\n",
    "    csv_files = [f for f in os.listdir(folder_path) if f.endswith('.csv')]\n",
    "    if not csv_files:\n",
    "        print(f\"ไม่พบไฟล์ CSV ในโฟลเดอร์: {folder_path}\")\n",
    "        return pd.DataFrame()\n",
    "\n",
    "    processed_dataframes = []\n",
    "    for file in csv_files:\n",
    "        file_path = os.path.join(folder_path, file)\n",
    "        processed_df = process_csv(file_path)\n",
    "        processed_dataframes.append(processed_df)\n",
    "\n",
    "    merged_df = pd.concat(processed_dataframes, ignore_index=True)\n",
    "    return merged_df\n",
    "\n",
    "# ฟังก์ชันบันทึกผลลัพธ์\n",
    "def save_to_csv(df, output_file):\n",
    "    \"\"\"\n",
    "    บันทึก DataFrame ลงไฟล์ CSV\n",
    "    \"\"\"\n",
    "    df.to_csv(output_file, index=False)\n",
    "    print(f\"บันทึกผลลัพธ์ในไฟล์: {output_file}\")\n"
   ]
  },
  {
   "cell_type": "code",
   "execution_count": 4,
   "metadata": {},
   "outputs": [
    {
     "name": "stdout",
     "output_type": "stream",
     "text": [
      "/Users/pichamonjaritngam/Desktop/dsde/prepare/prepared_2016_data.csv: แก้ไขได้ 0 แถว, เหลือ null 0 แถว\n",
      "/Users/pichamonjaritngam/Desktop/dsde/prepare/prepared_2017_data.csv: แก้ไขได้ 0 แถว, เหลือ null 0 แถว\n",
      "/Users/pichamonjaritngam/Desktop/dsde/prepare/prepared_2015_data.csv: แก้ไขได้ 0 แถว, เหลือ null 0 แถว\n",
      "/Users/pichamonjaritngam/Desktop/dsde/prepare/prepared_2014_data.csv: แก้ไขได้ 0 แถว, เหลือ null 0 แถว\n",
      "บันทึกผลลัพธ์ในไฟล์: /Users/pichamonjaritngam/Desktop/dsde/prepare/2013-2017.csv\n"
     ]
    }
   ],
   "source": [
    "# กำหนดพาธของโฟลเดอร์และไฟล์ผลลัพธ์\n",
    "folder_path = \"/Users/pichamonjaritngam/Desktop/dsde/prepare\"  # แก้ไขพาธที่นี่\n",
    "output_file = \"/Users/pichamonjaritngam/Desktop/dsde/prepare/2013-2017.csv\"   # ระบุพาธไฟล์ผลลัพธ์\n",
    "\n",
    "# ตรวจสอบและเรียกใช้งาน\n",
    "if os.path.isdir(folder_path):\n",
    "    merged_df = process_all_csv_in_folder(folder_path)\n",
    "    if not merged_df.empty:\n",
    "        save_to_csv(merged_df, output_file)\n",
    "    else:\n",
    "        print(\"ไม่มีข้อมูลให้บันทึก\")\n",
    "else:\n",
    "    print(f\"ไม่พบโฟลเดอร์: {folder_path}\")\n"
   ]
  }
 ],
 "metadata": {
  "kernelspec": {
   "display_name": "Python 3",
   "language": "python",
   "name": "python3"
  },
  "language_info": {
   "codemirror_mode": {
    "name": "ipython",
    "version": 3
   },
   "file_extension": ".py",
   "mimetype": "text/x-python",
   "name": "python",
   "nbconvert_exporter": "python",
   "pygments_lexer": "ipython3",
   "version": "3.12.7"
  }
 },
 "nbformat": 4,
 "nbformat_minor": 2
}
