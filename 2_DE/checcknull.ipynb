{
 "cells": [
  {
   "cell_type": "code",
   "execution_count": 27,
   "metadata": {},
   "outputs": [
    {
     "data": {
      "text/plain": [
       "(91655, 8)"
      ]
     },
     "execution_count": 27,
     "metadata": {},
     "output_type": "execute_result"
    }
   ],
   "source": [
    "import pandas as pd\n",
    "\n",
    "# โหลดไฟล์ CSV\n",
    "file_path = \"/Users/pichamonjaritngam/Desktop/dsde/prepare/prepared_2023_data.csv\"\n",
    "df = pd.read_csv(file_path)\n",
    "df.shape\n"
   ]
  },
  {
   "cell_type": "code",
   "execution_count": 28,
   "metadata": {},
   "outputs": [
    {
     "name": "stdout",
     "output_type": "stream",
     "text": [
      "       author_name  affiliation   city  country  publication_date  title  \\\n",
      "0            False        False  False    False             False  False   \n",
      "1            False        False  False    False             False  False   \n",
      "2            False        False  False    False             False  False   \n",
      "3            False        False  False    False             False  False   \n",
      "4            False        False  False    False             False  False   \n",
      "...            ...          ...    ...      ...               ...    ...   \n",
      "91650        False        False  False    False             False  False   \n",
      "91651        False        False  False    False             False  False   \n",
      "91652        False        False  False    False             False  False   \n",
      "91653        False        False  False    False             False  False   \n",
      "91654        False        False  False    False             False  False   \n",
      "\n",
      "       latitude  longitude  \n",
      "0         False      False  \n",
      "1         False      False  \n",
      "2         False      False  \n",
      "3         False      False  \n",
      "4         False      False  \n",
      "...         ...        ...  \n",
      "91650     False      False  \n",
      "91651     False      False  \n",
      "91652     False      False  \n",
      "91653     False      False  \n",
      "91654     False      False  \n",
      "\n",
      "[91655 rows x 8 columns]\n"
     ]
    }
   ],
   "source": [
    "missing_data = df.isnull()\n",
    "print(missing_data)\n"
   ]
  },
  {
   "cell_type": "code",
   "execution_count": 29,
   "metadata": {},
   "outputs": [
    {
     "name": "stdout",
     "output_type": "stream",
     "text": [
      "Number of missing values in each column:\n",
      "author_name          0\n",
      "affiliation          0\n",
      "city                 0\n",
      "country              0\n",
      "publication_date     0\n",
      "title                0\n",
      "latitude            23\n",
      "longitude           23\n",
      "dtype: int64\n"
     ]
    }
   ],
   "source": [
    "missing_count = df.isnull().sum()\n",
    "print(\"Number of missing values in each column:\")\n",
    "print(missing_count)\n"
   ]
  }
 ],
 "metadata": {
  "kernelspec": {
   "display_name": "Python 3",
   "language": "python",
   "name": "python3"
  },
  "language_info": {
   "codemirror_mode": {
    "name": "ipython",
    "version": 3
   },
   "file_extension": ".py",
   "mimetype": "text/x-python",
   "name": "python",
   "nbconvert_exporter": "python",
   "pygments_lexer": "ipython3",
   "version": "3.12.7"
  }
 },
 "nbformat": 4,
 "nbformat_minor": 2
}
