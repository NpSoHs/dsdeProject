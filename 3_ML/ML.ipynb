{
 "cells": [
  {
   "cell_type": "code",
   "execution_count": 7,
   "metadata": {},
   "outputs": [
    {
     "data": {
      "text/plain": [
       "(46593, 9)"
      ]
     },
     "execution_count": 7,
     "metadata": {},
     "output_type": "execute_result"
    }
   ],
   "source": [
    "import pandas as pd\n",
    "\n",
    "# โหลดข้อมูลจาก CSV\n",
    "data1 = pd.read_csv(\"data_with_cluster.csv\")\n",
    "data1.shape"
   ]
  },
  {
   "cell_type": "code",
   "execution_count": 8,
   "metadata": {},
   "outputs": [],
   "source": [
    "import pandas as pd\n",
    "from sklearn.feature_extraction.text import TfidfVectorizer\n",
    "from sklearn.cluster import KMeans"
   ]
  },
  {
   "cell_type": "code",
   "execution_count": null,
   "metadata": {},
   "outputs": [],
   "source": [
    "from sklearn.model_selection import GridSearchCV, train_test_split\n",
    "from sklearn.feature_extraction.text import TfidfVectorizer\n",
    "from xgboost import XGBClassifier\n",
    "from sklearn.pipeline import Pipeline\n",
    "from sklearn.preprocessing import LabelEncoder\n",
    "from sklearn.metrics import accuracy_score\n",
    "import joblib\n",
    "\n",
    "# เตรียมข้อมูล\n",
    "le = LabelEncoder()\n",
    "data1['cluster'] = le.fit_transform(data1['cluster'])\n",
    "X = data1['title']\n",
    "y = data1['cluster']\n",
    "\n",
    "# แบ่งข้อมูล\n",
    "X_train, X_test, y_train, y_test = train_test_split(X, y, test_size=0.2, random_state=42)\n",
    "\n",
    "# สร้าง Pipeline\n",
    "pipeline = Pipeline([\n",
    "    ('tfidf', TfidfVectorizer()),\n",
    "    ('clf', XGBClassifier(\n",
    "        tree_method='gpu_hist',      # ใช้ GPU สำหรับการ train\n",
    "        predictor='gpu_predictor',  # ใช้ GPU สำหรับการ predict\n",
    "        n_jobs=-1                   # ใช้ทุก core ที่มี\n",
    "    ))\n",
    "])\n",
    "\n",
    "# กำหนดพารามิเตอร์สำหรับ GridSearchCV\n",
    "param_grid = {\n",
    "    'tfidf__max_df': [0.8, 0.9, 1.0],\n",
    "    'clf__n_estimators': [100, 200],\n",
    "    'clf__max_depth': [3, 6, 10],\n",
    "    'clf__learning_rate': [0.01, 0.1, 0.3],\n",
    "    'clf__subsample': [0.8, 1.0]\n",
    "}\n",
    "\n",
    "# ใช้ GridSearchCV\n",
    "grid_search = GridSearchCV(\n",
    "    pipeline,\n",
    "    param_grid=param_grid,\n",
    "    cv=5,              # จำนวน folds\n",
    "    n_jobs=-1,         # ใช้ทุก core\n",
    "    verbose=3          # แสดง log การรัน\n",
    ")\n",
    "\n",
    "# ฝึกโมเดล\n",
    "grid_search.fit(X_train, y_train)\n",
    "\n",
    "# แสดงพารามิเตอร์ที่ดีที่สุด\n",
    "print(\"Best Parameters:\", grid_search.best_params_)\n",
    "\n",
    "# บันทึกโมเดล\n",
    "joblib.dump(grid_search.best_estimator_, 'model/model_with_gpu.joblib')\n",
    "\n",
    "# ทดสอบ accuracy\n",
    "y_pred = grid_search.best_estimator_.predict(X_test)\n",
    "accuracy = accuracy_score(y_test, y_pred)\n",
    "print(\"Accuracy:\", accuracy)\n"
   ]
  },
  {
   "cell_type": "code",
   "execution_count": 4,
   "metadata": {},
   "outputs": [
    {
     "name": "stderr",
     "output_type": "stream",
     "text": [
      "c:\\Users\\PREDATOR\\anaconda3\\envs\\dsde-cedt\\Lib\\site-packages\\xgboost\\core.py:158: UserWarning: [20:46:49] WARNING: C:\\buildkite-agent\\builds\\buildkite-windows-cpu-autoscaling-group-i-0c55ff5f71b100e98-1\\xgboost\\xgboost-ci-windows\\src\\common\\error_msg.cc:27: The tree method `gpu_hist` is deprecated since 2.0.0. To use GPU training, set the `device` parameter to CUDA instead.\n",
      "\n",
      "    E.g. tree_method = \"hist\", device = \"cuda\"\n",
      "\n",
      "  warnings.warn(smsg, UserWarning)\n",
      "c:\\Users\\PREDATOR\\anaconda3\\envs\\dsde-cedt\\Lib\\site-packages\\xgboost\\core.py:158: UserWarning: [20:46:49] WARNING: C:\\buildkite-agent\\builds\\buildkite-windows-cpu-autoscaling-group-i-0c55ff5f71b100e98-1\\xgboost\\xgboost-ci-windows\\src\\learner.cc:740: \n",
      "Parameters: { \"predictor\" } are not used.\n",
      "\n",
      "  warnings.warn(smsg, UserWarning)\n",
      "c:\\Users\\PREDATOR\\anaconda3\\envs\\dsde-cedt\\Lib\\site-packages\\xgboost\\core.py:158: UserWarning: [20:48:59] WARNING: C:\\buildkite-agent\\builds\\buildkite-windows-cpu-autoscaling-group-i-0c55ff5f71b100e98-1\\xgboost\\xgboost-ci-windows\\src\\common\\error_msg.cc:27: The tree method `gpu_hist` is deprecated since 2.0.0. To use GPU training, set the `device` parameter to CUDA instead.\n",
      "\n",
      "    E.g. tree_method = \"hist\", device = \"cuda\"\n",
      "\n",
      "  warnings.warn(smsg, UserWarning)\n",
      "c:\\Users\\PREDATOR\\anaconda3\\envs\\dsde-cedt\\Lib\\site-packages\\xgboost\\core.py:158: UserWarning: [20:48:59] WARNING: C:\\buildkite-agent\\builds\\buildkite-windows-cpu-autoscaling-group-i-0c55ff5f71b100e98-1\\xgboost\\xgboost-ci-windows\\src\\common\\error_msg.cc:58: Falling back to prediction using DMatrix due to mismatched devices. This might lead to higher memory usage and slower performance. XGBoost is running on: cuda:0, while the input data is on: cpu.\n",
      "Potential solutions:\n",
      "- Use a data structure that matches the device ordinal in the booster.\n",
      "- Set the device for booster before call to inplace_predict.\n",
      "\n",
      "This warning will only be shown once.\n",
      "\n",
      "  warnings.warn(smsg, UserWarning)\n"
     ]
    },
    {
     "name": "stdout",
     "output_type": "stream",
     "text": [
      "Accuracy: 0.22309260650284365\n"
     ]
    },
    {
     "data": {
      "text/plain": [
       "['model/model_with_gpu.joblib']"
      ]
     },
     "execution_count": 4,
     "metadata": {},
     "output_type": "execute_result"
    }
   ],
   "source": [
    "from sklearn.model_selection import train_test_split\n",
    "from sklearn.feature_extraction.text import TfidfVectorizer\n",
    "from xgboost import XGBClassifier\n",
    "from sklearn.pipeline import Pipeline\n",
    "from sklearn.preprocessing import LabelEncoder\n",
    "from sklearn.metrics import accuracy_score\n",
    "import joblib\n",
    "\n",
    "# เตรียมข้อมูล\n",
    "le = LabelEncoder()\n",
    "data1['Cluster'] = le.fit_transform(data1['Cluster'])\n",
    "X = data1['title']\n",
    "y = data1['Cluster']\n",
    "\n",
    "# แบ่งข้อมูลเป็น train และ test set\n",
    "X_train, X_test, y_train, y_test = train_test_split(X, y, test_size=0.2, random_state=42)\n",
    "\n",
    "# สร้าง Pipeline\n",
    "pipeline = Pipeline([\n",
    "    ('tfidf', TfidfVectorizer(max_df=0.8)),\n",
    "    ('clf', XGBClassifier(\n",
    "        tree_method='gpu_hist',\n",
    "        learning_rate=0.1,\n",
    "        max_depth=10,\n",
    "        n_estimators=200,\n",
    "        subsample=0.8,\n",
    "        predictor='gpu_predictor',  # ใช้ GPU สำหรับการ predict\n",
    "        n_jobs=-1                 # ใช้ทุก core ที่มี\n",
    "    ))\n",
    "])\n",
    "\n",
    "# ฝึกโมเดล\n",
    "pipeline.fit(X_train, y_train)\n",
    "\n",
    "# ทดสอบ accuracy\n",
    "y_pred = pipeline.predict(X_test)\n",
    "accuracy = accuracy_score(y_test, y_pred)\n",
    "print(\"Accuracy:\", accuracy)\n",
    "\n",
    "# บันทึกโมเดลที่ฝึกเสร็จแล้ว\n",
    "joblib.dump(pipeline, 'model/model_with_gpu.joblib')\n"
   ]
  },
  {
   "cell_type": "code",
   "execution_count": 9,
   "metadata": {},
   "outputs": [
    {
     "name": "stderr",
     "output_type": "stream",
     "text": [
      "[nltk_data] Downloading package stopwords to\n",
      "[nltk_data]     C:\\Users\\PREDATOR\\AppData\\Roaming\\nltk_data...\n",
      "[nltk_data]   Package stopwords is already up-to-date!\n"
     ]
    },
    {
     "name": "stdout",
     "output_type": "stream",
     "text": [
      "Accuracy: 0.5029509604034768\n",
      "The title belongs to cluster: 0\n"
     ]
    }
   ],
   "source": [
    "from sklearn.model_selection import train_test_split\n",
    "from sklearn.feature_extraction.text import TfidfVectorizer\n",
    "from sklearn.svm import SVC\n",
    "from sklearn.pipeline import Pipeline\n",
    "from sklearn.preprocessing import LabelEncoder\n",
    "from sklearn.metrics import accuracy_score\n",
    "import joblib\n",
    "import string\n",
    "import nltk\n",
    "from nltk.corpus import stopwords  # เพิ่มการ import stopwords\n",
    "\n",
    "# โหลด stopwords จาก nltk\n",
    "nltk.download('stopwords')\n",
    "stop_words = set(stopwords.words('english'))\n",
    "\n",
    "# ฟังก์ชั่นสำหรับการตัดคำ stopwords\n",
    "def remove_stopwords(text):\n",
    "    # ตัดเครื่องหมายวรรคตอน\n",
    "    text = ''.join([char for char in text if char not in string.punctuation])\n",
    "    # ตัดคำ stopwords\n",
    "    words = text.split()\n",
    "    filtered_words = [word for word in words if word.lower() not in stop_words]\n",
    "    return ' '.join(filtered_words)\n",
    "\n",
    "# เตรียมข้อมูล (ตัวอย่าง)\n",
    "import pandas as pd\n",
    "\n",
    "\n",
    "# เตรียมข้อมูล\n",
    "data1['title'] = data1['title'].apply(remove_stopwords)\n",
    "\n",
    "# การทำ Label Encoding สำหรับ Cluster\n",
    "le = LabelEncoder()\n",
    "data1['Cluster'] = le.fit_transform(data1['Cluster'])  # label encoding สำหรับ Cluster\n",
    "\n",
    "# ข้อมูล Features และ Labels\n",
    "X = data1['title']  # ข้อความ (title)\n",
    "y = data1['Cluster']  # คลัสเตอร์ที่เกิดจาก DBSCAN\n",
    "\n",
    "# แบ่งข้อมูลเป็น training set และ test set\n",
    "X_train, X_test, y_train, y_test = train_test_split(X, y, test_size=0.2, random_state=42)\n",
    "\n",
    "# สร้าง pipeline\n",
    "pipeline = Pipeline([\n",
    "    ('tfidf', TfidfVectorizer(max_df=0.8)),  # แปลงข้อความเป็นเวกเตอร์\n",
    "    ('clf', SVC(kernel='linear', C=1, gamma='scale', probability=True))  # ใช้ SVM กับ kernel แบบ linear\n",
    "])\n",
    "\n",
    "# ฝึกโมเดล\n",
    "pipeline.fit(X_train, y_train)\n",
    "\n",
    "# ทดสอบ accuracy\n",
    "y_pred = pipeline.predict(X_test)\n",
    "accuracy = accuracy_score(y_test, y_pred)\n",
    "print(\"Accuracy:\", accuracy)\n",
    "\n",
    "# บันทึกโมเดล\n",
    "joblib.dump(pipeline, 'model/model_with_stopwords_removed.joblib')\n",
    "\n",
    "# ใช้โมเดลในการทำนาย cluster จากข้อความใหม่\n",
    "def predict_cluster(title):\n",
    "    model = joblib.load('model/model_with_stopwords_removed.joblib')\n",
    "    prediction = model.predict([title])  # ทำนาย cluster จาก title\n",
    "    return le.inverse_transform(prediction)  # แปลงผลลัพธ์กลับเป็น label เดิม\n",
    "\n",
    "# ตัวอย่างการใช้ฟังก์ชั่น\n",
    "title_input = \"Enter your keyword or title here\"\n",
    "predicted_cluster = predict_cluster(title_input)\n",
    "print(f\"The title belongs to cluster: {predicted_cluster[0]}\")\n"
   ]
  },
  {
   "cell_type": "code",
   "execution_count": 14,
   "metadata": {},
   "outputs": [
    {
     "name": "stdout",
     "output_type": "stream",
     "text": [
      "The title belongs to cluster: 5\n"
     ]
    }
   ],
   "source": [
    "title_input = \"Resource reconfiguration by surviving SMEs in a disrupted industry\"\n",
    "predicted_cluster = predict_cluster(title_input)\n",
    "print(f\"The title belongs to cluster: {predicted_cluster[0]}\")"
   ]
  }
 ],
 "metadata": {
  "kernelspec": {
   "display_name": "dsde-cedt",
   "language": "python",
   "name": "python3"
  },
  "language_info": {
   "codemirror_mode": {
    "name": "ipython",
    "version": 3
   },
   "file_extension": ".py",
   "mimetype": "text/x-python",
   "name": "python",
   "nbconvert_exporter": "python",
   "pygments_lexer": "ipython3",
   "version": "3.12.7"
  }
 },
 "nbformat": 4,
 "nbformat_minor": 2
}
