{
 "cells": [
  {
   "cell_type": "code",
   "execution_count": 1,
   "metadata": {},
   "outputs": [
    {
     "data": {
      "text/plain": [
       "(81619, 9)"
      ]
     },
     "execution_count": 1,
     "metadata": {},
     "output_type": "execute_result"
    }
   ],
   "source": [
    "import pandas as pd\n",
    "\n",
    "# โหลดข้อมูลจาก CSV\n",
    "dff = pd.read_csv(\"datafinal.csv\")\n",
    "\n",
    "# ตรวจสอบข้อมูล\n",
    "dff.shape\n"
   ]
  },
  {
   "cell_type": "markdown",
   "metadata": {},
   "source": [
    "แบบแรก"
   ]
  },
  {
   "cell_type": "code",
   "execution_count": null,
   "metadata": {},
   "outputs": [],
   "source": [
    "\n",
    "import pandas as pd\n",
    "from sklearn.cluster import DBSCAN\n",
    "from sklearn.preprocessing import StandardScaler\n",
    "import numpy as np\n",
    "\n",
    "# โหลดข้อมูล\n",
    "\n",
    "# แปลงพิกัด Latitude และ Longitude ให้เป็น Array\n",
    "dff['latitude'] = dff['latitude'].astype('float16')\n",
    "dff['longitude'] = dff['longitude'].astype('float16')\n",
    "\n",
    "# แปลงพิกัด Latitude และ Longitude ให้เป็น Array\n",
    "coords = dff[['latitude', 'longitude']].to_numpy()\n",
    "\n",
    "# ใช้ DBSCAN โดยตั้งค่า eps (หน่วย: radians)\n",
    "kms_per_radian = 6371.0088  # Earth radius in kilometers\n",
    "epsilon = 500 / kms_per_radian  # 500 km radius\n",
    "\n",
    "# สร้างโมเดล DBSCAN ใหม่\n",
    "dbscan = DBSCAN(eps=epsilon, min_samples=5, metric='haversine')\n",
    "dff['cluster'] = dbscan.fit_predict(np.radians(coords))\n",
    "\n",
    "# ตรวจสอบผลลัพธ์\n",
    "print(dff[['author_name', 'country', 'cluster']])\n",
    "\n"
   ]
  },
  {
   "cell_type": "markdown",
   "metadata": {},
   "source": [
    "แบบ2"
   ]
  },
  {
   "cell_type": "code",
   "execution_count": null,
   "metadata": {},
   "outputs": [],
   "source": [
    "import pandas as pd\n",
    "from sklearn.cluster import DBSCAN\n",
    "import numpy as np\n",
    "\n",
    "# Load your dataset\n",
    "# dff = pd.read_csv('your_file.csv')\n",
    "\n",
    "# Sampling 10% of the data\n",
    "sampled_dfff = dff.sample(frac=0.2, random_state=42)\n",
    "coords = sampled_dfff[['latitude', 'longitude']].to_numpy()\n",
    "\n",
    "# DBSCAN setup\n",
    "kms_per_radian = 6371.0088  # Earth radius in kilometers\n",
    "epsilon = 500 / kms_per_radian  # 500 km radius\n",
    "dbscan = DBSCAN(eps=epsilon, min_samples=5, metric='haversine')\n",
    "\n",
    "# Perform clustering\n",
    "sampled_dfff['cluster'] = dbscan.fit_predict(np.radians(coords))\n",
    "\n",
    "# Display the result\n",
    "print(sampled_dfff[['author_name', 'country', 'cluster']])\n"
   ]
  }
 ],
 "metadata": {
  "kernelspec": {
   "display_name": "dsde-cedt",
   "language": "python",
   "name": "python3"
  },
  "language_info": {
   "codemirror_mode": {
    "name": "ipython",
    "version": 3
   },
   "file_extension": ".py",
   "mimetype": "text/x-python",
   "name": "python",
   "nbconvert_exporter": "python",
   "pygments_lexer": "ipython3",
   "version": "3.12.7"
  }
 },
 "nbformat": 4,
 "nbformat_minor": 2
}
